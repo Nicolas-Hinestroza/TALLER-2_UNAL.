{
 "cells": [
  {
   "cell_type": "code",
   "execution_count": 1,
   "metadata": {},
   "outputs": [
    {
     "name": "stdout",
     "output_type": "stream",
     "text": [
      "Resultado Serie MacLaurin: -2.3140007309222206e+61\n",
      "Resultado Funcion Math: 0.048633500538969116\n",
      "Diferencia = 2.3140007309222206e+61\n"
     ]
    }
   ],
   "source": [
    "import math\n",
    "def potencia(x, n): # Definimos la funcion separados con la variable a\n",
    "    z = 0 # Definimos z \n",
    "    for c in range(0, n): # para i en un rango desde 0 hasta n\n",
    "        a = (- 1) ** c # utilizamos la formula para cambiar el signo\n",
    "        b = (x ** (2 * c)) / math.factorial(2 * c) # Utilizamos la formula para aproximarnos al coseno\n",
    "        z += a * b # Utilizamos esta formula para carcular los datos\n",
    "    return z # nos devuelven el resultado es decir z\n",
    "\n",
    "if __name__ == \"__main__\": # ahora ejecutamos el programa con la funcion main\n",
    "    x = float(input(\"Escribe el valor al que le quieres sacar el coseno: \")) # definimos la variable x\n",
    "    n = int(input(\"Escribe cuantos valores de las series \")) # Definimos la variable n\n",
    "    coseno = math.cos(x) # definimos la variable \n",
    "    print(\"Resultado Serie MacLaurin: \"+str (potencia(x, n))) # Imprime el resultado de la aproximacion\n",
    "    print(\"Resultado Funcion Math: \"+str(coseno)) # Imprime la funcion\n",
    "    print(\"Diferencia = \"+str(coseno - potencia(x, n))) # Imprimie la diferencia"
   ]
  },
  {
   "attachments": {},
   "cell_type": "markdown",
   "metadata": {},
   "source": [
    "import math\n",
    "def potencia(x, n): # Definimos la funcion separados con la variable a\n",
    "    z = 0 # Definimos z \n",
    "    for c in range(0, n): # para i en un rango desde 0 hasta n\n",
    "        a = (- 1) ** c # utilizamos la formula para cambiar el signo\n",
    "        b = (x ** (2 * c)) / math.factorial(2 * c) # Utilizamos la formula para aproximarnos al coseno\n",
    "        z += a * b # Utilizamos esta formula para carcular los datos\n",
    "    return z # nos devuelven el resultado es decir z\n",
    "\n",
    "if __name__ == \"__main__\": # ahora ejecutamos el programa con la funcion main\n",
    "    x = float(input(\"Escribe el valor al que le quieres sacar el coseno: \")) # definimos la variable x\n",
    "    n = int(input(\"Escribe cuantos valores de las series \")) # Definimos la variable n\n",
    "    coseno = math.cos(x) # definimos la variable \n",
    "    print(\"Resultado Serie MacLaurin: \"+str (potencia(x, n))) # Imprime el resultado de la aproximacion\n",
    "    print(\"Resultado Funcion Math: \"+str(coseno)) # Imprime la funcion\n",
    "    print(\"Diferencia = \"+str(coseno - potencia(x, n))) # Imprimie la diferencia"
   ]
  }
 ],
 "metadata": {
  "kernelspec": {
   "display_name": "Python 3",
   "language": "python",
   "name": "python3"
  },
  "language_info": {
   "codemirror_mode": {
    "name": "ipython",
    "version": 3
   },
   "file_extension": ".py",
   "mimetype": "text/x-python",
   "name": "python",
   "nbconvert_exporter": "python",
   "pygments_lexer": "ipython3",
   "version": "3.11.2"
  },
  "orig_nbformat": 4
 },
 "nbformat": 4,
 "nbformat_minor": 2
}
