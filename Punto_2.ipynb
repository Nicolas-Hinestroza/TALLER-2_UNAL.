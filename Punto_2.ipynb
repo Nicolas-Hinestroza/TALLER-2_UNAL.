{
 "cells": [
  {
   "cell_type": "code",
   "execution_count": 3,
   "metadata": {},
   "outputs": [
    {
     "name": "stdout",
     "output_type": "stream",
     "text": [
      " El valor que escribiste es 123.456, la parte entera es: 123 y la parte entera separada es [1, 2, 3], la parte decimal es: 0.45600000000000307\n"
     ]
    }
   ],
   "source": [
    "n = float(input(\"Escribe el valor que quieres separar: \")) # Definimos la variable n\n",
    "n_entero = int # lo asignamos como entero.\n",
    "n_decimal = float # Lo asignamos como flotante.\n",
    "Lista1 = [] # Creamos la lista vacia para almacenar los datos recolectados.\n",
    "def separados1(a): # Definimos la funcion separados con la variable a\n",
    "    while a > 0: # Mientras a sea mayor que a sea mayor que 0 haga\n",
    "        Lista1.insert(0, a % 10) # Con la formula se agregara la ultima cifra en la primera parte de la lista\n",
    "        a = a // 10 # Con esta formula eliminamos la ultima cifra del numero\n",
    "n_entero = int(n) # Asiganmos el numero flotante a entero\n",
    "n_decimal = n - n_entero  #Restamos el numero entero con el flotante por lo tanto n_decimal es la parte flotante \n",
    "separados1(n_entero) # Corremos la funcion con la variable n\n",
    "print(\" El valor que escribiste es \" + str(n) + \", la parte entera es: \" + str(n_entero) + \" y la parte entera separada es \" + str(Lista1) + \", la parte decimal es: \" + str(n_decimal)) # Se imprime el resultado"
   ]
  }
 ],
 "metadata": {
  "kernelspec": {
   "display_name": "Python 3",
   "language": "python",
   "name": "python3"
  },
  "language_info": {
   "codemirror_mode": {
    "name": "ipython",
    "version": 3
   },
   "file_extension": ".py",
   "mimetype": "text/x-python",
   "name": "python",
   "nbconvert_exporter": "python",
   "pygments_lexer": "ipython3",
   "version": "3.11.2"
  },
  "orig_nbformat": 4
 },
 "nbformat": 4,
 "nbformat_minor": 2
}
