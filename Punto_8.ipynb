{
 "cells": [
  {
   "cell_type": "code",
   "execution_count": 1,
   "metadata": {},
   "outputs": [
    {
     "name": "stdout",
     "output_type": "stream",
     "text": [
      "1. la primera lista que has creado es el siguiente: ['2', '3', '4', '6', '7', '7']\n",
      "2. la segunda lista que has creado es el siguiente: ['3', '2', '4', '56', '78', '3', '2', '12']\n",
      "RTA: Los valores de la primera lista que estan en la segunda lista son: ['2', '3', '4']\n"
     ]
    }
   ],
   "source": [
    "n = int(input(\"Cuantos valores vas a digitar en la primera lista\")) # vamos a definir esta variable para ver cuantos numeros van a digitar en la lista\n",
    "Lista1 = [] # dejamos esta lista vacia para ir colocando los datos que se recolecten\n",
    "Lista2 = [] # dejamos esta lista vacia para ir colocando los datos que se recolecten\n",
    "Lista3= [] # dejamos esta lista vacia para ir colocando los datos que se recolecten\n",
    "for y in range(0,n): # usamos un ciclo for para seleccionar los datos segun la variable n\n",
    "    v = (input(\"Digita el valor: \")) # DFefinimos la variable v como los elementos recibidos\n",
    "    Lista1.append(v) # Los valores que se van recibiendo se van almacenando en la lista\n",
    "print (\"1. la primera lista que has creado es el siguiente:\", Lista1) # Imprimimos la lista que se creo\n",
    "N = int(input(\"Cuantos valores vas a digitar en la segunda lista\")) # vamos a definir esta variable para ver cuantos numeros van a digitar en la lista\n",
    "for Y in range(0,N): # usamos un ciclo for para seleccionar los datos segun la variable n\n",
    "    v = (input(\"Digita el valor: \")) # DFefinimos la variable v como los elementos recibidos\n",
    "    Lista2.append(v) # Los valores que se van recibiendo se van almacenando en la lista\n",
    "print (\"2. la segunda lista que has creado es el siguiente:\", Lista2) # Imprimimos la lista que se creo\n",
    "for z in Lista1: # Para z in lista1 haga:\n",
    "    if z in Lista2: # Si z esta en Lista2 entonces\n",
    "        Lista3.append(z) # Entonces vamos a agregar los valores en la Lista3\n",
    "c = len(Lista3) # Vamos a ver cuantos valores hay en la lista3\n",
    "if c >= 1: # si c es mayor o igual que 1 entonces\n",
    "    print(\"RTA: Los valores de la primera lista que estan en la segunda lista son:\", Lista3) # Imprimimos la lista de los valores de la primera lista que se encuentran en la segunda lista\n",
    "else: # Si no\n",
    "    print(\"No hay valores en la primera lista que se repitan en la segunda lista \") # Imprimimos que no hay valores repetidos"
   ]
  },
  {
   "attachments": {},
   "cell_type": "markdown",
   "metadata": {},
   "source": [
    "n = int(input(\"Cuantos valores vas a digitar en la primera lista\")) # vamos a definir esta variable para ver cuantos numeros van a digitar en la lista\n",
    "Lista1 = [] # dejamos esta lista vacia para ir colocando los datos que se recolecten\n",
    "Lista2 = [] # dejamos esta lista vacia para ir colocando los datos que se recolecten\n",
    "Lista3= [] # dejamos esta lista vacia para ir colocando los datos que se recolecten\n",
    "for y in range(0,n): # usamos un ciclo for para seleccionar los datos segun la variable n\n",
    "    v = (input(\"Digita el valor: \")) # DFefinimos la variable v como los elementos recibidos\n",
    "    Lista1.append(v) # Los valores que se van recibiendo se van almacenando en la lista\n",
    "print (\"1. la primera lista que has creado es el siguiente:\", Lista1) # Imprimimos la lista que se creo\n",
    "N = int(input(\"Cuantos valores vas a digitar en la segunda lista\")) # vamos a definir esta variable para ver cuantos numeros van a digitar en la lista\n",
    "for Y in range(0,N): # usamos un ciclo for para seleccionar los datos segun la variable n\n",
    "    v = (input(\"Digita el valor: \")) # DFefinimos la variable v como los elementos recibidos\n",
    "    Lista2.append(v) # Los valores que se van recibiendo se van almacenando en la lista\n",
    "print (\"2. la segunda lista que has creado es el siguiente:\", Lista2) # Imprimimos la lista que se creo\n",
    "for z in Lista1: # Para z in lista1 haga:\n",
    "    if z in Lista2: # Si z esta en Lista2 entonces\n",
    "        Lista3.append(z) # Entonces vamos a agregar los valores en la Lista3\n",
    "c = len(Lista3) # Vamos a ver cuantos valores hay en la lista3\n",
    "if c >= 1: # si c es mayor o igual que 1 entonces\n",
    "    print(\"RTA: Los valores de la primera lista que estan en la segunda lista son:\", Lista3) # Imprimimos la lista de los valores de la primera lista que se encuentran en la segunda lista\n",
    "else: # Si no\n",
    "    print(\"No hay valores en la primera lista que se repitan en la segunda lista \") # Imprimimos que no hay valores repetidos"
   ]
  }
 ],
 "metadata": {
  "kernelspec": {
   "display_name": "Python 3",
   "language": "python",
   "name": "python3"
  },
  "language_info": {
   "codemirror_mode": {
    "name": "ipython",
    "version": 3
   },
   "file_extension": ".py",
   "mimetype": "text/x-python",
   "name": "python",
   "nbconvert_exporter": "python",
   "pygments_lexer": "ipython3",
   "version": "3.11.2"
  },
  "orig_nbformat": 4
 },
 "nbformat": 4,
 "nbformat_minor": 2
}
