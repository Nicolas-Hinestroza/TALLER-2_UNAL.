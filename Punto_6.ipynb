{
 "cells": [
  {
   "cell_type": "code",
   "execution_count": 1,
   "metadata": {},
   "outputs": [
    {
     "name": "stdout",
     "output_type": "stream",
     "text": [
      "1. la lista que has creado es el siguiente: [6, 4, 6, 5, 3, 2]\n",
      "RTA: Si hay valores que se repiten en la lista y son:  [6]\n"
     ]
    }
   ],
   "source": [
    "n = int(input(\"Cuantos valores vas a digitar\")) # vamos a definir esta variable para ver cuantos numeros van a digitar en la lista\n",
    "lista = [] # dejamos esta lista vacia para ir colocando los datos que se recolecten\n",
    "lista2 = [] # dejamos esta lista vacia para ir colocando los datos que se recolecten\n",
    "lista3= [] # dejamos esta lista vacia para ir colocando los datos que se recolecten\n",
    "for y in range(0,n): # usamos un ciclo for para seleccionar los datos segun la variable n\n",
    "    v = int(input(\"Digita el valor: \")) # DFefinimos la variable v como los elementos recibidos\n",
    "    lista.append(v) # Los valores que se van recibiendo se van almacenando en la lista\n",
    "print (\"1. la lista que has creado es el siguiente:\", lista) # Imprimimos la lista que se creo\n",
    "for z in lista:  # para z in lista  \n",
    "    a = lista.count(z) # Vamos a verificar los valores que se repiten en lista\n",
    "    if a >= 2: # si hay mas de dos valores que se repiten entonces\n",
    "        lista2.append(z) # se agregan los valores que se repiten en la lista2\n",
    "c = len(lista2) # Vamos a ver cuantos valores hay en la lista2\n",
    "for e in lista2: # Para que la lista que se repite se vea mas lista entonces vamos a usar un for, para e en listas2\n",
    "    if e not in lista3: # si e no esta en lista3\n",
    "        lista3.append(e) #entonces vamos a agregar los valores en la lista3\n",
    "if c >= 2: # si c es mayor o igual que 2 entonces\n",
    "    print(\"RTA: Si hay valores que se repiten en la lista y son: \", lista3) # imprimimos la lista de los numeros que se repiten\n",
    "if c <= 1: # si no\n",
    "    print(\"RTA: En la lista que creaste no hay valores que se repiten.\") # Imprimimos que no hay valores repetidos"
   ]
  },
  {
   "attachments": {},
   "cell_type": "markdown",
   "metadata": {},
   "source": [
    "n = int(input(\"Cuantos valores vas a digitar\")) # vamos a definir esta variable para ver cuantos numeros van a digitar en la lista\n",
    "lista = [] # dejamos esta lista vacia para ir colocando los datos que se recolecten\n",
    "lista2 = [] # dejamos esta lista vacia para ir colocando los datos que se recolecten\n",
    "lista3= [] # dejamos esta lista vacia para ir colocando los datos que se recolecten\n",
    "for y in range(0,n): # usamos un ciclo for para seleccionar los datos segun la variable n\n",
    "    v = int(input(\"Digita el valor: \")) # DFefinimos la variable v como los elementos recibidos\n",
    "    lista.append(v) # Los valores que se van recibiendo se van almacenando en la lista\n",
    "print (\"1. la lista que has creado es el siguiente:\", lista) # Imprimimos la lista que se creo\n",
    "for z in lista:  # para z in lista  \n",
    "    a = lista.count(z) # Vamos a verificar los valores que se repiten en lista\n",
    "    if a >= 2: # si hay mas de dos valores que se repiten entonces\n",
    "        lista2.append(z) # se agregan los valores que se repiten en la lista2\n",
    "c = len(lista2) # Vamos a ver cuantos valores hay en la lista2\n",
    "for e in lista2: # Para que la lista que se repite se vea mas lista entonces vamos a usar un for, para e en listas2\n",
    "    if e not in lista3: # si e no esta en lista3\n",
    "        lista3.append(e) #entonces vamos a agregar los valores en la lista3\n",
    "if c >= 2: # si c es mayor o igual que 2 entonces\n",
    "    print(\"RTA: Si hay valores que se repiten en la lista y son: \", lista3) # imprimimos la lista de los numeros que se repiten\n",
    "if c <= 1: # si no\n",
    "    print(\"RTA: En la lista que creaste no hay valores que se repiten.\") # Imprimimos que no hay valores repetidos"
   ]
  }
 ],
 "metadata": {
  "kernelspec": {
   "display_name": "Python 3",
   "language": "python",
   "name": "python3"
  },
  "language_info": {
   "codemirror_mode": {
    "name": "ipython",
    "version": 3
   },
   "file_extension": ".py",
   "mimetype": "text/x-python",
   "name": "python",
   "nbconvert_exporter": "python",
   "pygments_lexer": "ipython3",
   "version": "3.11.2"
  },
  "orig_nbformat": 4
 },
 "nbformat": 4,
 "nbformat_minor": 2
}
